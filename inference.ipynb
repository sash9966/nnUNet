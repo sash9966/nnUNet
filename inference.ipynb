{
 "cells": [
  {
   "cell_type": "code",
   "execution_count": null,
   "metadata": {},
   "outputs": [
    {
     "name": "stdout",
     "output_type": "stream",
     "text": [
      "\n",
      "#######################################################################\n",
      "Please cite the following paper when using nnU-Net:\n",
      "Isensee, F., Jaeger, P. F., Kohl, S. A., Petersen, J., & Maier-Hein, K. H. (2021). nnU-Net: a self-configuring method for deep learning-based biomedical image segmentation. Nature methods, 18(2), 203-211.\n",
      "#######################################################################\n",
      "\n",
      "There are 1 cases in the source folder\n",
      "I am process 0 out of 1 (max process ID is 0, we start counting with 0!)\n",
      "There are 1 cases that I would like to predict\n",
      "\n",
      "Predicting Hannum_Volunteer_01_DiVO_06_10_slice_001:\n",
      "perform_everything_on_device: True\n"
     ]
    },
    {
     "name": "stderr",
     "output_type": "stream",
     "text": [
      "100%|██████████| 1/1 [00:08<00:00,  8.89s/it]\n"
     ]
    },
    {
     "name": "stdout",
     "output_type": "stream",
     "text": [
      "sending off prediction to background worker for resampling and export\n",
      "done with Hannum_Volunteer_01_DiVO_06_10_slice_001\n"
     ]
    },
    {
     "data": {
      "text/plain": [
       "0"
      ]
     },
     "execution_count": 37,
     "metadata": {},
     "output_type": "execute_result"
    }
   ],
   "source": [
    "# CROPPING#\n",
    "#\n",
    "# Variables for paths\n",
    "input_dir = \"/home/sastocke/nnUNet/inferenceTest/DataSet1Test\"\n",
    "output_binary_masks = \"/home/sastocke/nnUNet/inferenceTest/DataSet2OutputFromnnUnet1\"\n",
    "\n",
    "import os\n",
    "\n",
    "# Set the environment variables\n",
    "os.environ[\"nnUNet_raw\"] = \"/home/sastocke/nnUNet/nnUNet_raw\"\n",
    "os.environ[\"nnUNet_preprocessed\"] = \"/home/sastocke/nnUNet/nnUNet_preprocessed\"\n",
    "os.environ[\"nnUNet_results\"] = \"/home/sastocke/nnUNet/nnUNet_results\"\n",
    "\n",
    "\n",
    "#!nnUNetv2_predict -i /home/sastocke/nnUNet/inferenceTest/DataSet1Test -o /home/sastocke/nnUNet/inferenceTest/DataSet2OutputFromnnUnet1 -d 25 -c '2d'\n",
    "os.system((f\"nnUNetv2_predict -i {input_dir} -o {output_binary_masks}  --save_probabilities -d 25 -c '2d' -f 5\"))\n",
    "\n",
    "#!nnUNetv2_predict -i {input_dir} -o\n",
    "#{output_binary_masks}  --save_probabilities -d 25 -c '2d' \n"
   ]
  },
  {
   "cell_type": "code",
   "execution_count": null,
   "metadata": {},
   "outputs": [
    {
     "name": "stdout",
     "output_type": "stream",
     "text": [
      "parts: ['Hannum', 'Volunteer', '01', 'DiVO', '06', '10', 'slice', '001']\n",
      "Processing mask file: Hannum_Volunteer_01_DiVO_06_10_slice_001.nii.gz\n",
      "Root folder: Hannum, Volunteer: Volunteer_01, DIVO folder: DiVO_06_10, Slice: 001\n",
      "Path of mask: Hannum_Volunteer_01_DiVO_06_10_001\n",
      "image_folder: Hannum/Volunteer_01/Distortion_Corrected/DiVO_06_10/03_Segmentation_Images\n",
      "avg_image_file: /home/sastocke/nnUNet/inferenceTest/Hannum/Volunteer_01/Distortion_Corrected/DiVO_06_10/03_Segmentation_Images/Average_Diffusion_Weighted_Image_Slice_001.nii\n",
      "Processed and saved Hannum_Volunteer_01_DiVO_06_10_slice_001_0000 to _0003.nii.gz\n"
     ]
    }
   ],
   "source": [
    "#Proccessing Cropping:\n",
    "import os\n",
    "import nibabel as nib\n",
    "import numpy as np\n",
    "import cv2\n",
    "import pandas as pd\n",
    "\n",
    "# Define directories\n",
    "#root directory\n",
    "pwd = '/home/sastocke/nnUNet/inferenceTest'\n",
    "#annotators\n",
    "root_folders = ['Hannum']\n",
    "datasetname = 'processedOutPut1'\n",
    "output_image_folder = f'{pwd}/{datasetname}/imagesTr'\n",
    "inspection_folder = f'{pwd}/{datasetname}/inspection'\n",
    "\n",
    "\n",
    "inference_masks_dir = \"/home/sastocke/nnUNet/inferenceTest/DataSet2OutputFromnnUnet1\"  # First nnUNet mask outputs\n",
    "\n",
    "# Ensure output folders exist\n",
    "os.makedirs(output_image_folder, exist_ok=True)\n",
    "os.makedirs(inspection_folder, exist_ok=True)\n",
    "\n",
    "# Interpolation size\n",
    "interpolation_size = 256\n",
    "\n",
    "# Function to normalize image to [0, 1]\n",
    "def normalize_image(image):\n",
    "    min_val = np.min(image)\n",
    "    max_val = np.max(image)\n",
    "    return (image - min_val) / (max_val - min_val) if max_val > min_val else image\n",
    "\n",
    "# Processing loop\n",
    "\n",
    "#mask_file = os.path.join(inference_masks_dir, f'{root_folder}_{volunteer_folder}_{divo_folder}_slice_00{i}.nii.gz')\n",
    "\n",
    "for mask_filename in os.listdir(inference_masks_dir):\n",
    "    if mask_filename.endswith('.nii.gz'):  # Only process .nii.gz files\n",
    "        # Extract relevant components from the filename\n",
    "        try:\n",
    "                # Extract components using the known file pattern\n",
    "                parts = mask_filename.rstrip('.nii.gz').split('_')\n",
    "                root_folder = parts[0]  # 'Hannum'\n",
    "                volunteer_folder = f\"{parts[1]}_{parts[2]}\"  # 'Volunteer_01'\n",
    "                divo_folder = f\"{parts[3]}_{parts[4]}_{parts[5]}\"  # 'DiVO_06_10'\n",
    "                slice = f\"{parts[7]}\"  # '001'\n",
    "\n",
    "\n",
    "\n",
    "                # Log the components for debugging\n",
    "                print(f'parts: {parts}')\n",
    "                print(f\"Processing mask file: {mask_filename}\")\n",
    "                print(f\"Root folder: {root_folder}, Volunteer: {volunteer_folder}, DIVO folder: {divo_folder}, Slice: {slice}\")\n",
    "            \n",
    "            # Construct full path to the mask file\n",
    "                mask_file_path = os.path.join(inference_masks_dir, mask_filename)\n",
    "            \n",
    "            # Continue with your nested loops and processing here\n",
    "        except ValueError:\n",
    "            print(f\"Filename format does not match expected pattern: {mask_filename}\")\n",
    "\n",
    "\n",
    "        #Path found: \n",
    "        print(f'Path of mask: {root_folder}_{volunteer_folder}_{divo_folder}_{slice}')\n",
    "        divo_path= f'{root_folder}/{volunteer_folder}/Distortion_Corrected/{divo_folder}'\n",
    "\n",
    "\n",
    "        #original Image folder\n",
    "        image_folder = os.path.join(divo_path, '03_Segmentation_Images')\n",
    "        print(f'image_folder: {image_folder}')\n",
    "        # Loop over slices\n",
    "\n",
    "        avg_image_file = os.path.join(pwd,image_folder, f'Average_Diffusion_Weighted_Image_Slice_{slice}.nii')\n",
    "        mean_diff_file = os.path.join(pwd,image_folder, f'Mean_Diffusivty_Image_Slice_{slice}.nii')\n",
    "        eigenvector_file = os.path.join(pwd,image_folder, f'Primary_Eigenvector_Image_Slice_{slice}.nii')\n",
    "        FA_file = os.path.join(pwd,image_folder, f'Fractional_Anisotropy_Image_Slice_{slice}.nii')\n",
    "        \n",
    "\n",
    "        # Check if all required files exist\n",
    "        print(f'avg_image_file: {avg_image_file}')\n",
    "        if all(os.path.exists(f) for f in [avg_image_file, mean_diff_file, eigenvector_file, FA_file]):\n",
    "            # Load images and mask\n",
    "            avg_image = nib.load(avg_image_file).get_fdata()\n",
    "            mean_diff_image = nib.load(mean_diff_file).get_fdata()\n",
    "            eigenvector_image = nib.load(eigenvector_file).get_fdata()\n",
    "            FA_image = nib.load(FA_file).get_fdata()\n",
    "            \n",
    "\n",
    "            inference_mask = nib.load(mask_file_path).get_fdata()\n",
    "            \n",
    "            # Find bounding box from the mask\n",
    "            coords = np.argwhere(inference_mask > 0)\n",
    "            x_min, y_min = coords.min(axis=0)\n",
    "            x_max, y_max = coords.max(axis=0) + 1  # Add 1 for inclusive cropping\n",
    "            # Crop \n",
    "\n",
    "\n",
    "\n",
    "            # Apply mask cropping and resize to 256x256\n",
    "            avg_cropped = avg_image[x_min:x_max, y_min:y_max]\n",
    "            mean_diff_cropped = mean_diff_image[x_min:x_max, y_min:y_max]\n",
    "            eigenvector_cropped = eigenvector_image[x_min:x_max, y_min:y_max, 0] + eigenvector_image[x_min:x_max, y_min:y_max, 1]\n",
    "            FA_cropped = FA_image[x_min:x_max, y_min:y_max]\n",
    "\n",
    "\n",
    "\n",
    "            avg_resized = cv2.resize(avg_cropped, (interpolation_size, interpolation_size), interpolation=cv2.INTER_LINEAR)\n",
    "            mean_diff_resized = cv2.resize(mean_diff_cropped, (interpolation_size, interpolation_size), interpolation=cv2.INTER_LINEAR)\n",
    "            eigenvector_resized = cv2.resize(eigenvector_cropped, (interpolation_size, interpolation_size), interpolation=cv2.INTER_LINEAR)\n",
    "            FA_resized = cv2.resize(FA_cropped, (interpolation_size, interpolation_size), interpolation=cv2.INTER_LINEAR)\n",
    "            \n",
    "            \n",
    "            \n",
    "            # Save images with nnUNet naming scheme\n",
    "            common_name_id = f'{root_folder}_{volunteer_folder}_{divo_folder}_slice_{slice}'\n",
    "            nib.save(nib.Nifti1Image(avg_resized, np.eye(4)), \n",
    "                        os.path.join(output_image_folder, f'{common_name_id}_0000.nii.gz'))\n",
    "            nib.save(nib.Nifti1Image(mean_diff_resized, np.eye(4)), \n",
    "                        os.path.join(output_image_folder, f'{common_name_id}_0001.nii.gz'))\n",
    "            nib.save(nib.Nifti1Image(eigenvector_resized, np.eye(4)), \n",
    "                        os.path.join(output_image_folder, f'{common_name_id}_0002.nii.gz'))\n",
    "            nib.save(nib.Nifti1Image(FA_resized, np.eye(4)), \n",
    "                        os.path.join(output_image_folder, f'{common_name_id}_0003.nii.gz'))\n",
    "\n",
    "            print(f\"Processed and saved {common_name_id}_0000 to _0003.nii.gz\")\n",
    "        else:\n",
    "            print(f\"Missing files for slice {slice} in {divo_folder}\")\n",
    "\n"
   ]
  },
  {
   "cell_type": "code",
   "execution_count": null,
   "metadata": {},
   "outputs": [
    {
     "name": "stdout",
     "output_type": "stream",
     "text": [
      "\n",
      "#######################################################################\n",
      "Please cite the following paper when using nnU-Net:\n",
      "Isensee, F., Jaeger, P. F., Kohl, S. A., Petersen, J., & Maier-Hein, K. H. (2021). nnU-Net: a self-configuring method for deep learning-based biomedical image segmentation. Nature methods, 18(2), 203-211.\n",
      "#######################################################################\n",
      "\n",
      "There are 1 cases in the source folder\n",
      "I am process 0 out of 1 (max process ID is 0, we start counting with 0!)\n",
      "There are 1 cases that I would like to predict\n",
      "\n",
      "Predicting Hannum_Volunteer_01_DiVO_06_10_slice_001:\n",
      "perform_everything_on_device: True\n"
     ]
    },
    {
     "name": "stderr",
     "output_type": "stream",
     "text": [
      "100%|██████████| 1/1 [00:09<00:00,  9.26s/it]\n"
     ]
    },
    {
     "name": "stdout",
     "output_type": "stream",
     "text": [
      "sending off prediction to background worker for resampling and export\n",
      "done with Hannum_Volunteer_01_DiVO_06_10_slice_001\n"
     ]
    },
    {
     "data": {
      "text/plain": [
       "0"
      ]
     },
     "execution_count": 36,
     "metadata": {},
     "output_type": "execute_result"
    }
   ],
   "source": [
    "#Segmentation 2\n",
    "\n",
    "input_dir2 = \"/home/sastocke/nnUNet/inferenceTest/processedOutPut1/imagesTr\"\n",
    "output_2 = \"/home/sastocke/nnUNet/inferenceTest/OutputnnUnet2\"\n",
    "# Set the environment variables\n",
    "os.environ[\"nnUNet_raw\"] = \"/home/sastocke/nnUNet/nnUNet_raw\"\n",
    "os.environ[\"nnUNet_preprocessed\"] = \"/home/sastocke/nnUNet/nnUNet_preprocessed\"\n",
    "os.environ[\"nnUNet_results\"] = \"/home/sastocke/nnUNet/nnUNet_results\"\n",
    "\n",
    "\n",
    "os.system((f\"nnUNetv2_predict -i {input_dir2} -o {output_2}  --save_probabilities -d 36 -c '2d' -f 5\"))"
   ]
  },
  {
   "cell_type": "code",
   "execution_count": null,
   "metadata": {},
   "outputs": [],
   "source": [
    "#Post processing up to original size again:\n",
    "\n",
    "\n"
   ]
  },
  {
   "cell_type": "code",
   "execution_count": null,
   "metadata": {},
   "outputs": [],
   "source": []
  },
  {
   "cell_type": "code",
   "execution_count": null,
   "metadata": {},
   "outputs": [],
   "source": []
  },
  {
   "cell_type": "code",
   "execution_count": null,
   "metadata": {},
   "outputs": [],
   "source": []
  }
 ],
 "metadata": {
  "kernelspec": {
   "display_name": "Python 3",
   "language": "python",
   "name": "python3"
  },
  "language_info": {
   "codemirror_mode": {
    "name": "ipython",
    "version": 3
   },
   "file_extension": ".py",
   "mimetype": "text/x-python",
   "name": "python",
   "nbconvert_exporter": "python",
   "pygments_lexer": "ipython3",
   "version": "3.11.7"
  }
 },
 "nbformat": 4,
 "nbformat_minor": 2
}
