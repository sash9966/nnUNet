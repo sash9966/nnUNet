{
 "cells": [
  {
   "cell_type": "code",
   "execution_count": null,
   "metadata": {},
   "outputs": [],
   "source": []
  },
  {
   "cell_type": "code",
   "execution_count": 8,
   "metadata": {},
   "outputs": [
    {
     "name": "stdout",
     "output_type": "stream",
     "text": [
      "gt_path: /home/sastocke/nnUNet/CorkGTLVandIPsSeperateDisco/CorkTestData_Volunteer_12_MDDW_06_10_slice_003.nii.gz, pred_path: /home/sastocke/nnUNet/HannumGTLVandIPsSeperateDisco/DiscoHannum_Volunteer_12_MDDW_06_10_slice_003.nii.gz\n",
      "original_image_path: /home/sastocke/nnUNet/DiscoHannum/Volunteer_12/Distortion_Corrected/MDDW_06_10/03_Segmentation_Images/Mean_Diffusivty_Image_Slice_003.nii\n",
      "Original or crop mask not found for DiscoHannum_Volunteer_12_MDDW_06_10_slice_003.nii.gz. Expected paths:\n",
      " - Original: /home/sastocke/nnUNet/DiscoHannum/Volunteer_12/Distortion_Corrected/MDDW_06_10/03_Segmentation_Images/Mean_Diffusivty_Image_Slice_003.nii\n",
      " - Crop Mask: /home/sastocke/nnUNet/Volunteer_12/Distortion_Corrected/MDDW_06_10/02_Crop_Masks/Square_Crop_Mask_Slice_003.nii\n",
      "################################################################################################################################\n",
      "METRICS:\n",
      "File: DiscoHannum_Volunteer_12_MDDW_06_10_slice_003.nii.gz\n"
     ]
    },
    {
     "ename": "UnboundLocalError",
     "evalue": "cannot access local variable 'metrics_entry' where it is not associated with a value",
     "output_type": "error",
     "traceback": [
      "\u001b[0;31m---------------------------------------------------------------------------\u001b[0m",
      "\u001b[0;31mUnboundLocalError\u001b[0m                         Traceback (most recent call last)",
      "\u001b[0;32m/tmp/ipykernel_12874/4279141955.py\u001b[0m in \u001b[0;36m<cell line: 0>\u001b[0;34m()\u001b[0m\n\u001b[1;32m     10\u001b[0m \u001b[0mmain_folder\u001b[0m \u001b[0;34m=\u001b[0m \u001b[0;34m\"/home/sastocke/nnUNet\"\u001b[0m\u001b[0;34m\u001b[0m\u001b[0;34m\u001b[0m\u001b[0m\n\u001b[1;32m     11\u001b[0m \u001b[0;34m\u001b[0m\u001b[0m\n\u001b[0;32m---> 12\u001b[0;31m \u001b[0mprocess_folders\u001b[0m\u001b[0;34m(\u001b[0m\u001b[0mpred_folder\u001b[0m\u001b[0;34m,\u001b[0m \u001b[0mgt_folder\u001b[0m\u001b[0;34m,\u001b[0m \u001b[0mmain_folder\u001b[0m\u001b[0;34m,\u001b[0m \u001b[0mmetrics_data\u001b[0m\u001b[0;34m,\u001b[0m \u001b[0mmetrics_entry_median\u001b[0m\u001b[0;34m,\u001b[0m \u001b[0minterreaderName\u001b[0m \u001b[0;34m=\u001b[0m \u001b[0;34m\"CorkTestData\"\u001b[0m\u001b[0;34m,\u001b[0m \u001b[0mannotator\u001b[0m \u001b[0;34m=\u001b[0m\u001b[0;34m\"DiscoHannum\"\u001b[0m \u001b[0;34m,\u001b[0m \u001b[0mmask_inference_folder\u001b[0m \u001b[0;34m=\u001b[0m\u001b[0mpred_folder\u001b[0m  \u001b[0;34m)\u001b[0m\u001b[0;34m\u001b[0m\u001b[0;34m\u001b[0m\u001b[0m\n\u001b[0m",
      "\u001b[0;32m~/nnUNet/eval_util.py\u001b[0m in \u001b[0;36mprocess_folders\u001b[0;34m(pred_folder, gt_folder, main_folder, metrics_data, metrics_entry_median, interreaderName, annotator, mask_inference_folder)\u001b[0m\n\u001b[1;32m    687\u001b[0m         \u001b[0mprint\u001b[0m\u001b[0;34m(\u001b[0m\u001b[0;34mf'METRICS:'\u001b[0m\u001b[0;34m)\u001b[0m\u001b[0;34m\u001b[0m\u001b[0;34m\u001b[0m\u001b[0m\n\u001b[1;32m    688\u001b[0m         \u001b[0mprint\u001b[0m\u001b[0;34m(\u001b[0m\u001b[0;34mf\"File: {pred_file}\"\u001b[0m\u001b[0;34m)\u001b[0m\u001b[0;34m\u001b[0m\u001b[0;34m\u001b[0m\u001b[0m\n\u001b[0;32m--> 689\u001b[0;31m         \u001b[0;32mfor\u001b[0m \u001b[0mkey\u001b[0m\u001b[0;34m,\u001b[0m \u001b[0mvalue\u001b[0m \u001b[0;32min\u001b[0m \u001b[0mmetrics_entry\u001b[0m\u001b[0;34m.\u001b[0m\u001b[0mitems\u001b[0m\u001b[0;34m(\u001b[0m\u001b[0;34m)\u001b[0m\u001b[0;34m:\u001b[0m\u001b[0;34m\u001b[0m\u001b[0;34m\u001b[0m\u001b[0m\n\u001b[0m\u001b[1;32m    690\u001b[0m             \u001b[0mprint\u001b[0m\u001b[0;34m(\u001b[0m\u001b[0;34mf'{key}: {value}'\u001b[0m\u001b[0;34m)\u001b[0m\u001b[0;34m\u001b[0m\u001b[0;34m\u001b[0m\u001b[0m\n\u001b[1;32m    691\u001b[0m \u001b[0;34m\u001b[0m\u001b[0m\n",
      "\u001b[0;31mUnboundLocalError\u001b[0m: cannot access local variable 'metrics_entry' where it is not associated with a value"
     ]
    }
   ],
   "source": [
    "#Interreader variability:\n",
    "annotator = \"HannumVol3specificNorm\"\n",
    "\n",
    "metrics_data=[]\n",
    "metrics_entry_median=[]\n",
    "from eval_util import process_folders\n",
    "\n",
    "gt_folder = f\"/home/sastocke/nnUNet/CorkGTLVandIPsSeperateDisco\"\n",
    "pred_folder = f\"/home/sastocke/nnUNet/HannumGTLVandIPsSeperateDisco\"\n",
    "main_folder = \"/home/sastocke/nnUNet\"\n",
    "\n",
    "process_folders(pred_folder, gt_folder, main_folder, metrics_data, metrics_entry_median, interreaderName = \"CorkTestData\", annotator =\"DiscoHannum\" , mask_inference_folder =pred_folder  )\n"
   ]
  },
  {
   "cell_type": "code",
   "execution_count": null,
   "metadata": {},
   "outputs": [],
   "source": [
    "\n",
    "import pandas as pd\n",
    "\n",
    "df = pd.DataFrame(metrics_data)\n",
    "\n",
    "# Save the DataFrame to an Excel file\n",
    "df.to_excel(f\"Interreaderoutput.xlsx\", index=False)\n",
    "\n",
    "# Once you have multiple rows (multiple cases) in `df`,\n",
    "# you can easily get aggregate statistics. For a single case, the mean/min/max\n",
    "# will just reflect that one row’s data. With multiple ro<ws, it will summarize all.\n",
    "\n",
    "# Calculate mean, min, and max for each numeric column\n",
    "mean_values = df.mean(numeric_only=True)\n",
    "min_values = df.min(numeric_only=True)\n",
    "max_values = df.max(numeric_only=True)\n",
    "\n",
    "# Print the results\n",
    "print(\"Mean values for each metric:\")\n",
    "print(mean_values)\n",
    "print(\"\\nMinimum values for each metric:\")\n",
    "print(min_values)\n",
    "print(\"\\nMaximum values for each metric:\")\n",
    "print(max_values)"
   ]
  },
  {
   "cell_type": "code",
   "execution_count": null,
   "metadata": {},
   "outputs": [],
   "source": []
  }
 ],
 "metadata": {
  "kernelspec": {
   "display_name": "base",
   "language": "python",
   "name": "python3"
  },
  "language_info": {
   "codemirror_mode": {
    "name": "ipython",
    "version": 3
   },
   "file_extension": ".py",
   "mimetype": "text/x-python",
   "name": "python",
   "nbconvert_exporter": "python",
   "pygments_lexer": "ipython3",
   "version": "3.11.7"
  }
 },
 "nbformat": 4,
 "nbformat_minor": 2
}
