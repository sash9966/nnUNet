{
 "cells": [
  {
   "cell_type": "code",
   "execution_count": null,
   "metadata": {},
   "outputs": [],
   "source": [
    "import os\n",
    "import nibabel as nib \n",
    "import numpy as np# Input directories\n",
    "lv_dir = \"/Users/saschastocker/Documents/Stanford/work2024/FIMH2025/HannumTestVol3DirvsAverages/TestDatasetLVOnly/labelsTr\"\n",
    "ip_dir = \"/Users/saschastocker/Documents/Stanford/work2024/FIMH2025/HannumTestVol3DirvsAverages/TestDatasetIPOnly/labelsTr\"\n",
    "output_dir = \"/Users/saschastocker/Documents/Stanford/work2024/FIMH2025/HannumTestVol3DirvsAverages//GTLVandIPsSeperate/\"\n",
    "\n",
    "# Ensure output directory exists\n",
    "os.makedirs(output_dir, exist_ok=True)\n",
    "\n",
    "# Process files\n",
    "for file in os.listdir(lv_dir):\n",
    "    if file.endswith(\".nii.gz\"):\n",
    "        lv_path = os.path.join(lv_dir, file)\n",
    "        ip_path = os.path.join(ip_dir, file)\n",
    "        output_path = os.path.join(output_dir, file)\n",
    "        \n",
    "        # Load the LV and IP masks\n",
    "        lv_img = nib.load(lv_path)\n",
    "        ip_img = nib.load(ip_path)\n",
    "        \n",
    "        lv_data = lv_img.get_fdata().astype(np.int32)\n",
    "        ip_data = ip_img.get_fdata().astype(np.int32)\n",
    "        \n",
    "        # Combine masks according to rules\n",
    "        combined_data = lv_data.copy()\n",
    "        combined_data[lv_data == 1] = 1  # LV remains 1\n",
    "        combined_data[ip_data == 1] = 2  # IP label 1 -> 2\n",
    "        combined_data[ip_data == 2] = 3  # IP label 2 -> 3\n",
    "        \n",
    "        # Save the combined mask\n",
    "        combined_img = nib.Nifti1Image(combined_data, affine=lv_img.affine, header=lv_img.header)\n",
    "        nib.save(combined_img, output_path)\n",
    "        print(f\"Processed and saved: {output_path}\")\n",
    "\n",
    "print(\"All masks have been combined and saved to Output_Final_Combined folder.\")"
   ]
  }
 ],
 "metadata": {
  "kernelspec": {
   "display_name": "Python 3",
   "language": "python",
   "name": "python3"
  },
  "language_info": {
   "name": "python",
   "version": "3.12.4"
  }
 },
 "nbformat": 4,
 "nbformat_minor": 2
}
